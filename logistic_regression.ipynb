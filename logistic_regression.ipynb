{
  "nbformat": 4,
  "nbformat_minor": 0,
  "metadata": {
    "colab": {
      "name": "logistic_regression.ipynb",
      "provenance": [],
      "collapsed_sections": []
    },
    "kernelspec": {
      "name": "python3",
      "display_name": "Python 3"
    }
  },
  "cells": [
    {
      "cell_type": "markdown",
      "metadata": {
        "id": "XaoTTFUduK8L",
        "colab_type": "text"
      },
      "source": [
        "[![Open In Colab](https://colab.research.google.com/assets/colab-badge.svg)](https://colab.research.google.com/drive/1kqG3UhIcnscMC3sm4hdEHFmIMpmZWEEG?usp=sharing)"
      ]
    },
    {
      "cell_type": "markdown",
      "metadata": {
        "id": "laB2JbdN0cvV",
        "colab_type": "text"
      },
      "source": [
        "# Introducing Logistic Regression\n",
        "Logistic Regression is a classification algorithm. It is used to predict a binary outcome (1 / 0, Yes / No, True / False) given a set of independent variable/s. You can also think of logistic regression as a special case of linear regression when the outcome variable is categorical. Logistic Regression is a supervised machine learning algorithm/model.\n",
        "\n",
        "## Agenda\n",
        "*  About Dataset\n",
        "*  Loading Libraries\n",
        "*  Loading Data\n",
        "*  Understanding Data\n",
        "*  Separating Input/Independent and Output/Dependent Variables\n",
        "*  Splitting the data\n",
        "*  Building Model\n",
        "*  Prediction\n",
        "*  Model Performance\n",
        "\n",
        "## About Dataset\n",
        "The dataset has two columns - age (age of the person/customer) and bought_insurance (whether the customer bought insurance or not). If bought_insurance = 1, the customer bought insurance and if bought_insurance = 0, the customer did not buy the insurance.\n",
        "\n",
        "Dataset Link: [insurance_data](https://raw.githubusercontent.com/codebasics/py/master/ML/7_logistic_reg/insurance_data.csv)"
      ]
    },
    {
      "cell_type": "markdown",
      "metadata": {
        "id": "MVGxkd1K3xrW",
        "colab_type": "text"
      },
      "source": [
        "## Loading Libraries\n",
        "All Python capabilities are not loaded to our working environment by default (even they are already installed in your system). So, we import each and every library that we want to use.\n",
        "\n",
        "In data science, numpy and pandas are most commonly used libraries. Numpy is required for calculations like means, medians, square roots, etc. Pandas is used for data processin and data frames. We chose alias names for our libraries for the sake of our convenience (numpy --> np and pandas --> pd).\n",
        "\n",
        "**We can import all the libraries that we think might be needed or can import as we go along.**"
      ]
    },
    {
      "cell_type": "code",
      "metadata": {
        "id": "8Zo1haly0Rap",
        "colab_type": "code",
        "colab": {}
      },
      "source": [
        "import pandas as pd\n",
        "import matplotlib.pyplot as plt"
      ],
      "execution_count": 1,
      "outputs": []
    },
    {
      "cell_type": "markdown",
      "metadata": {
        "id": "Zp46CaAG4-79",
        "colab_type": "text"
      },
      "source": [
        "## Loading Data\n",
        "Pandas module is used for reading files. We have our data in '.csv' format. We will use 'read_csv()' function for loading the data."
      ]
    },
    {
      "cell_type": "code",
      "metadata": {
        "id": "cDs7FZ-Y4bMN",
        "colab_type": "code",
        "colab": {}
      },
      "source": [
        "# In read_csv() function, we have passed the raw data link at github\n",
        "data_location = \"https://raw.githubusercontent.com/codebasics/py/master/ML/7_logistic_reg/insurance_data.csv\"\n",
        "data = pd.read_csv(data_location)"
      ],
      "execution_count": 2,
      "outputs": []
    },
    {
      "cell_type": "markdown",
      "metadata": {
        "id": "sQgP0WXi5pl0",
        "colab_type": "text"
      },
      "source": [
        "## Understanding Data\n",
        "Let's check how our data looks. This can be done using head() method."
      ]
    },
    {
      "cell_type": "code",
      "metadata": {
        "id": "-gwOLzhX5njJ",
        "colab_type": "code",
        "colab": {
          "base_uri": "https://localhost:8080/",
          "height": 204
        },
        "outputId": "3a53deaf-ec5f-42a1-8222-68c52a68152a"
      },
      "source": [
        "data.head()"
      ],
      "execution_count": 3,
      "outputs": [
        {
          "output_type": "execute_result",
          "data": {
            "text/html": [
              "<div>\n",
              "<style scoped>\n",
              "    .dataframe tbody tr th:only-of-type {\n",
              "        vertical-align: middle;\n",
              "    }\n",
              "\n",
              "    .dataframe tbody tr th {\n",
              "        vertical-align: top;\n",
              "    }\n",
              "\n",
              "    .dataframe thead th {\n",
              "        text-align: right;\n",
              "    }\n",
              "</style>\n",
              "<table border=\"1\" class=\"dataframe\">\n",
              "  <thead>\n",
              "    <tr style=\"text-align: right;\">\n",
              "      <th></th>\n",
              "      <th>age</th>\n",
              "      <th>bought_insurance</th>\n",
              "    </tr>\n",
              "  </thead>\n",
              "  <tbody>\n",
              "    <tr>\n",
              "      <th>0</th>\n",
              "      <td>22</td>\n",
              "      <td>0</td>\n",
              "    </tr>\n",
              "    <tr>\n",
              "      <th>1</th>\n",
              "      <td>25</td>\n",
              "      <td>0</td>\n",
              "    </tr>\n",
              "    <tr>\n",
              "      <th>2</th>\n",
              "      <td>47</td>\n",
              "      <td>1</td>\n",
              "    </tr>\n",
              "    <tr>\n",
              "      <th>3</th>\n",
              "      <td>52</td>\n",
              "      <td>0</td>\n",
              "    </tr>\n",
              "    <tr>\n",
              "      <th>4</th>\n",
              "      <td>46</td>\n",
              "      <td>1</td>\n",
              "    </tr>\n",
              "  </tbody>\n",
              "</table>\n",
              "</div>"
            ],
            "text/plain": [
              "   age  bought_insurance\n",
              "0   22                 0\n",
              "1   25                 0\n",
              "2   47                 1\n",
              "3   52                 0\n",
              "4   46                 1"
            ]
          },
          "metadata": {
            "tags": []
          },
          "execution_count": 3
        }
      ]
    },
    {
      "cell_type": "markdown",
      "metadata": {
        "id": "rA4wZUbx51KM",
        "colab_type": "text"
      },
      "source": [
        "There are two columns:\n",
        "\n",
        "*  age: The age of the customer\n",
        "*  bought_insurance: If the customer bought insurance (1) or not (0). This is our target variable which we are interested to know.\n",
        "\n",
        "Since our target variable has only two different classes/values, we can say it as a binary classification problem. And Logistic Regression is used for binary classification problems."
      ]
    },
    {
      "cell_type": "markdown",
      "metadata": {
        "id": "qEYG8who6aXb",
        "colab_type": "text"
      },
      "source": [
        "Looking the relationship between age and bought_insurance using scatter plot."
      ]
    },
    {
      "cell_type": "code",
      "metadata": {
        "id": "UOyg4-0K5xDv",
        "colab_type": "code",
        "colab": {
          "base_uri": "https://localhost:8080/",
          "height": 282
        },
        "outputId": "7b994b90-665a-42c3-b803-781bbc289873"
      },
      "source": [
        "plt.scatter(data.age,data.bought_insurance,marker='+',color='red')"
      ],
      "execution_count": 4,
      "outputs": [
        {
          "output_type": "execute_result",
          "data": {
            "text/plain": [
              "<matplotlib.collections.PathCollection at 0x7f39a25af780>"
            ]
          },
          "metadata": {
            "tags": []
          },
          "execution_count": 4
        },
        {
          "output_type": "display_data",
          "data": {
            "image/png": "[encoded data removed]",
            "text/plain": [
              "<Figure size 432x288 with 1 Axes>"
            ]
          },
          "metadata": {
            "tags": [],
            "needs_background": "light"
          }
        }
      ]
    },
    {
      "cell_type": "markdown",
      "metadata": {
        "id": "m003O7uL6xc8",
        "colab_type": "text"
      },
      "source": [
        "We can easily observe from the scatter plot that generally the customer who is of age less than 30 years has not bought the insurance."
      ]
    },
    {
      "cell_type": "markdown",
      "metadata": {
        "id": "uWzLw-d07EQs",
        "colab_type": "text"
      },
      "source": [
        "## Separating Input and Output Variables\n",
        "Before building any machine learning model, we always separate the input variables and output variables. Input variables are those quantities whose values are changed naturally in an experiment, whereas output variable is the one whose values are dependent on the input variables. So, input variables are also known as independent variables as its values are not dependent on any other quantity, and output variable/s are also known as dependent variables as its values are dependent on other variable i.e. input variables. Like here in this data, we can see that whether a person will buy insurance or not is dependent on the age of that person\n",
        "\n",
        "By convention input variables are represented with 'X' and output variables are represented with 'y'."
      ]
    },
    {
      "cell_type": "code",
      "metadata": {
        "id": "BslsxtTY6sd3",
        "colab_type": "code",
        "colab": {}
      },
      "source": [
        "X = data[['age']]     # input variable\n",
        "\n",
        "y = data['bought_insurance']    # output variable"
      ],
      "execution_count": 5,
      "outputs": []
    },
    {
      "cell_type": "markdown",
      "metadata": {
        "id": "UsgEP0tH-ArH",
        "colab_type": "text"
      },
      "source": [
        "If you notice the above code cell, I have used two square brackets while taking input variables and only one square bracket while taking output variable. Why?\n",
        "\n",
        "All machine learning algorithm accepts input variables as a 2D array and output variable as 1D array. Using two square brackets while selecting the input variables gives you the shape of input variable/s as 2D, but if you use only one square bracket, the shape will be 1D as you can see in the case of y.\n",
        "\n",
        "Let's check the shapes of X and y."
      ]
    },
    {
      "cell_type": "code",
      "metadata": {
        "id": "UnfWV_JW9_Br",
        "colab_type": "code",
        "colab": {
          "base_uri": "https://localhost:8080/",
          "height": 51
        },
        "outputId": "75232857-9b71-4ce9-85ba-7fd0dd97e516"
      },
      "source": [
        "print(\"Shape: \", X.shape, \"Dimension: \", X.ndim)\n",
        "print(\"Shape: \", y.shape, \"Dimension: \", y.ndim)"
      ],
      "execution_count": 6,
      "outputs": [
        {
          "output_type": "stream",
          "text": [
            "Shape:  (27, 1) Dimension:  2\n",
            "Shape:  (27,) Dimension:  1\n"
          ],
          "name": "stdout"
        }
      ]
    },
    {
      "cell_type": "markdown",
      "metadata": {
        "id": "9J3XXD4A_K61",
        "colab_type": "text"
      },
      "source": [
        "## Splitting the data into Train and Test Set\n",
        "We want to check the performance of the model that we built. For this purpose, we always split (both input and output data) the given data into training set  which will be used to train the model, and test set which will be used to check how accurately the model is predicting outcomes.\n",
        "\n",
        "For this purpose we have a class called 'train_test_split' in the 'sklearn.model_selection' module."
      ]
    },
    {
      "cell_type": "code",
      "metadata": {
        "id": "XQ1snUZP-4_e",
        "colab_type": "code",
        "colab": {}
      },
      "source": [
        "# import train_test_split\n",
        "from sklearn.model_selection import train_test_split"
      ],
      "execution_count": 7,
      "outputs": []
    },
    {
      "cell_type": "code",
      "metadata": {
        "id": "ev1mslygAtL5",
        "colab_type": "code",
        "colab": {}
      },
      "source": [
        "# split the data\n",
        "X_train, X_test, y_train, y_test = train_test_split(X,y,test_size=0.3, random_state = 42)\n",
        "\n",
        "# X_train: independent/input feature data for training the model\n",
        "# y_train: dependent/output feature data for training the model\n",
        "# X_test: independent/input feature data for testing the model; will be used to predict the output values\n",
        "# y_test: original dependent/output values of X_test; We will compare this values with our predicted values to check the performance of our built model.\n",
        " \n",
        "# test_size = 0.30: 30% of the data will go for test set and 70% of the data will go for train set\n",
        "# random_state = 42: this will fix the split i.e. there will be same split for each time you run the code"
      ],
      "execution_count": 8,
      "outputs": []
    },
    {
      "cell_type": "markdown",
      "metadata": {
        "id": "J9tTegE3Bn0D",
        "colab_type": "text"
      },
      "source": [
        "## Building Model\n"
      ]
    },
    {
      "cell_type": "markdown",
      "metadata": {
        "id": "OiJazgZFjGQu",
        "colab_type": "text"
      },
      "source": [
        "Now we are finally ready, and we can train the model.\n",
        "\n",
        "First, we need to import our model - Logistic Regression (again, using the sklearn library).\n",
        "\n",
        "Then we would feed the model both with the data (X_train) and the answers for that data (y_train)"
      ]
    },
    {
      "cell_type": "code",
      "metadata": {
        "id": "nZHXi5CfBlns",
        "colab_type": "code",
        "colab": {}
      },
      "source": [
        "# import Logistic Regression from sklearn.linear_model\n",
        "from sklearn.linear_model import LogisticRegression"
      ],
      "execution_count": 9,
      "outputs": []
    },
    {
      "cell_type": "code",
      "metadata": {
        "id": "7FCfCfawjDyK",
        "colab_type": "code",
        "colab": {}
      },
      "source": [
        "log_model = LogisticRegression()"
      ],
      "execution_count": 10,
      "outputs": []
    },
    {
      "cell_type": "code",
      "metadata": {
        "id": "caHe1oKSjuq-",
        "colab_type": "code",
        "colab": {
          "base_uri": "https://localhost:8080/",
          "height": 102
        },
        "outputId": "0fa6bd81-c446-4be6-eca0-e7528aaec7ad"
      },
      "source": [
        "# Fit the model\n",
        "log_model.fit(X_train, y_train)"
      ],
      "execution_count": 11,
      "outputs": [
        {
          "output_type": "execute_result",
          "data": {
            "text/plain": [
              "LogisticRegression(C=1.0, class_weight=None, dual=False, fit_intercept=True,\n",
              "                   intercept_scaling=1, l1_ratio=None, max_iter=100,\n",
              "                   multi_class='auto', n_jobs=None, penalty='l2',\n",
              "                   random_state=None, solver='lbfgs', tol=0.0001, verbose=0,\n",
              "                   warm_start=False)"
            ]
          },
          "metadata": {
            "tags": []
          },
          "execution_count": 11
        }
      ]
    },
    {
      "cell_type": "markdown",
      "metadata": {
        "id": "pkxVjh8wkB91",
        "colab_type": "text"
      },
      "source": [
        "The training happens in the third line (the \"fit\" function)."
      ]
    },
    {
      "cell_type": "markdown",
      "metadata": {
        "id": "UON4736ekMZw",
        "colab_type": "text"
      },
      "source": [
        "## Prediction\n",
        "Now logistic regression model (i.e. log_model) is trained using X_train and y_trian data. Let's predict the target value (i.e. bought_insurance) for the X_test data. We use \"predict()\" method for prediction."
      ]
    },
    {
      "cell_type": "code",
      "metadata": {
        "id": "4Fy1LxR_kA-f",
        "colab_type": "code",
        "colab": {}
      },
      "source": [
        "predictions = log_model.predict(X_test)"
      ],
      "execution_count": 12,
      "outputs": []
    },
    {
      "cell_type": "markdown",
      "metadata": {
        "id": "eiA_FMiwkxN4",
        "colab_type": "text"
      },
      "source": [
        "We already have actual target values (i.e. y_test) for X_test. Let's compare y_test and the predicted value for X_test by our log_model."
      ]
    },
    {
      "cell_type": "code",
      "metadata": {
        "id": "3kSld42hkvcc",
        "colab_type": "code",
        "colab": {
          "base_uri": "https://localhost:8080/",
          "height": 34
        },
        "outputId": "99715ab8-f497-4d4a-eeaa-ab8230728b55"
      },
      "source": [
        "y_test.values"
      ],
      "execution_count": 13,
      "outputs": [
        {
          "output_type": "execute_result",
          "data": {
            "text/plain": [
              "array([1, 0, 1, 0, 0, 0, 1, 1, 0])"
            ]
          },
          "metadata": {
            "tags": []
          },
          "execution_count": 13
        }
      ]
    },
    {
      "cell_type": "code",
      "metadata": {
        "id": "Csji5Qu9lJW7",
        "colab_type": "code",
        "colab": {
          "base_uri": "https://localhost:8080/",
          "height": 34
        },
        "outputId": "16d1610e-cf63-4623-b0f3-528265a984ca"
      },
      "source": [
        "predictions"
      ],
      "execution_count": 14,
      "outputs": [
        {
          "output_type": "execute_result",
          "data": {
            "text/plain": [
              "array([1, 0, 1, 0, 0, 0, 0, 1, 0])"
            ]
          },
          "metadata": {
            "tags": []
          },
          "execution_count": 14
        }
      ]
    },
    {
      "cell_type": "markdown",
      "metadata": {
        "id": "aBpanTWzlZmU",
        "colab_type": "text"
      },
      "source": [
        "There is one person who had actually bought insurance but our model predicted that the person had not bought insurance. So, there is one misclassified data by our model."
      ]
    },
    {
      "cell_type": "markdown",
      "metadata": {
        "id": "dz0ebyPjlzkp",
        "colab_type": "text"
      },
      "source": [
        "## Model Performance\n",
        "We can also check how accurate our model is performing using the 'accuracy_score' class from 'sklearn.metrics'."
      ]
    },
    {
      "cell_type": "code",
      "metadata": {
        "id": "cKj5hppYyQ9Y",
        "colab_type": "code",
        "colab": {
          "base_uri": "https://localhost:8080/",
          "height": 51
        },
        "outputId": "0217bbb6-8299-4f31-be89-82b980a359fc"
      },
      "source": [
        "# The confusion matrix\n",
        "from sklearn.metrics import confusion_matrix\n",
        "confusion_matrix(y_test, predictions) "
      ],
      "execution_count": 18,
      "outputs": [
        {
          "output_type": "execute_result",
          "data": {
            "text/plain": [
              "array([[5, 0],\n",
              "       [1, 3]])"
            ]
          },
          "metadata": {
            "tags": []
          },
          "execution_count": 18
        }
      ]
    },
    {
      "cell_type": "code",
      "metadata": {
        "id": "ooEvw_39zoB2",
        "colab_type": "code",
        "colab": {
          "base_uri": "https://localhost:8080/",
          "height": 34
        },
        "outputId": "6751bc08-7647-476c-d16b-3ceafe133a89"
      },
      "source": [
        "tn, fp, fn, tp = confusion_matrix(y_test, predictions).ravel()   # ravel() will convert the 2D numpy array into 1D.\n",
        "print(tn, fp, fn, tp)"
      ],
      "execution_count": 20,
      "outputs": [
        {
          "output_type": "stream",
          "text": [
            "5 0 1 3\n"
          ],
          "name": "stdout"
        }
      ]
    },
    {
      "cell_type": "code",
      "metadata": {
        "id": "K2TpjY1NlNlS",
        "colab_type": "code",
        "colab": {}
      },
      "source": [
        "from sklearn.metrics import accuracy_score"
      ],
      "execution_count": 15,
      "outputs": []
    },
    {
      "cell_type": "code",
      "metadata": {
        "id": "v0KrwUNsmLV6",
        "colab_type": "code",
        "colab": {
          "base_uri": "https://localhost:8080/",
          "height": 34
        },
        "outputId": "7a23c16b-4a52-43cc-a4df-de43692b7e8f"
      },
      "source": [
        "accuracy_score(y_test, predictions)"
      ],
      "execution_count": 16,
      "outputs": [
        {
          "output_type": "execute_result",
          "data": {
            "text/plain": [
              "0.8888888888888888"
            ]
          },
          "metadata": {
            "tags": []
          },
          "execution_count": 16
        }
      ]
    },
    {
      "cell_type": "markdown",
      "metadata": {
        "id": "x_MMd2w703S5",
        "colab_type": "text"
      },
      "source": [
        "**Why accuracy score?**\n",
        "\n",
        "Accuracy is a great measure when you have symmetric datasets where values of false positive and false negatives are almost same. As you can see the confusion matrix above, false positives (fp = 0) and false negatives (fn = 1) are almost same. So here accuracy score is the best measure.\n",
        "\n",
        "Further reading: https://blog.exsilio.com/all/accuracy-precision-recall-f1-score-interpretation-of-performance-measures/"
      ]
    },
    {
      "cell_type": "markdown",
      "metadata": {
        "id": "lBMN-wOamc7i",
        "colab_type": "text"
      },
      "source": [
        "Our model is predicting 88.9% correct results."
      ]
    },
    {
      "cell_type": "markdown",
      "metadata": {
        "id": "dPR3NvaJmSIF",
        "colab_type": "text"
      },
      "source": [
        "### Thanks for reading the Notebook!!!"
      ]
    },
    {
      "cell_type": "markdown",
      "metadata": {
        "id": "G2SmEVskR65o",
        "colab_type": "text"
      },
      "source": [
        "## Exercise\n",
        "**Instruction:**\n",
        "\n",
        "Use the raw data github link: https://raw.githubusercontent.com/dphi-official/Datasets/master/HR_comma_sep.csv \n",
        "\n",
        "Or you can download it here from [here](https://www.kaggle.com/giripujar/hr-analytics)\n",
        "\n",
        "**Exercise:**\n",
        "\n",
        "*  Load libraries and data.\n",
        "*  Do some exploratory data analysis to figure out which variables have direct and clear impact on employee retention (i.e. whether they leave the company or continue to work)\n",
        "*  Plot bar charts showing impact of employee salaries on retention\n",
        "*  See the correlation between department and employee retention\n",
        "*  Separate dependent and independent variables.\n",
        "*  Split the data into train set and test set\n",
        "*  Now build Logistic Regression model and do prediction for test data\n",
        "*  Measure the accuracy of the model\n"
      ]
    },
    {
      "cell_type": "markdown",
      "metadata": {
        "id": "y2MZWSKNnX6P",
        "colab_type": "text"
      },
      "source": [
        "**References:**\n",
        "\n",
        "https://github.com/codebasics/py/blob/master/ML/7_logistic_reg/7_logistic_regression.ipynb"
      ]
    }
  ]
}